{
  "cells": [
    {
      "cell_type": "markdown",
      "metadata": {
        "id": "view-in-github",
        "colab_type": "text"
      },
      "source": [
        "<a href=\"https://colab.research.google.com/github/jesusllg/Towards-a-Fair-Evaluation-Protocol-in-NAS-for-SRIR/blob/main/Generating-Partch-Pairs.ipynb\" target=\"_parent\"><img src=\"https://colab.research.google.com/assets/colab-badge.svg\" alt=\"Open In Colab\"/></a>"
      ]
    },
    {
      "cell_type": "code",
      "source": [
        "from google.colab import drive\n",
        "drive.mount('/gdrive')\n",
        "%cd \"../Data_for_training/Patches_ULBH\""
      ],
      "metadata": {
        "colab": {
          "base_uri": "https://localhost:8080/"
        },
        "id": "JsLV-5R6wyuN",
        "outputId": "b5b8e860-dc07-456e-e1d3-30f891f0d63f"
      },
      "execution_count": null,
      "outputs": [
        {
          "output_type": "stream",
          "name": "stdout",
          "text": [
            "Mounted at /gdrive\n",
            "/gdrive/MyDrive/Doctorate_Thesis_Coding/COMPSR-NET/Data_for_training/Patches_ULBH\n"
          ]
        }
      ]
    },
    {
      "cell_type": "code",
      "source": [
        "import numpy as np\n",
        "import matplotlib.pyplot as plt\n",
        "import os\n",
        "import PIL\n",
        "from tqdm import tqdm"
      ],
      "metadata": {
        "id": "8aVnB0LywoZw"
      },
      "execution_count": null,
      "outputs": []
    },
    {
      "cell_type": "code",
      "source": [
        "if os.path.exists(\"./tensor_y.npy\"):\n",
        "    os.remove(\"./tensor_y.npy\")\n",
        "if os.path.exists(\"./tensor_x.npy\"):\n",
        "    os.remove(\"./tensor_x.npy\")\n",
        "if os.path.exists(\"./val_tensor_x.npy\"):\n",
        "    os.remove(\"./val_tensor_x.npy\")\n",
        "if os.path.exists(\"./val_tensor_y.npy\"):\n",
        "    os.remove(\"./val_tensor_y.npy\")"
      ],
      "metadata": {
        "id": "m2PvrylzyfCq"
      },
      "execution_count": null,
      "outputs": []
    },
    {
      "cell_type": "code",
      "source": [
        "X_path = \"./Train_X2\"\n",
        "Y_path = \"./Train_Y\"\n",
        "\n",
        "val_X_path = \"./Validation_X2\"\n",
        "val_Y_path = \"./Validation_Y\""
      ],
      "metadata": {
        "id": "iOsZMMgYxL7v"
      },
      "execution_count": null,
      "outputs": []
    },
    {
      "cell_type": "code",
      "source": [
        "img_paths_X = []\n",
        "img_paths_Y = []\n",
        "val_img_paths_X = []\n",
        "val_img_paths_Y = []"
      ],
      "metadata": {
        "id": "klTsecoA0o1I"
      },
      "execution_count": null,
      "outputs": []
    },
    {
      "cell_type": "code",
      "source": [
        "for i in range(10,801,10):\n",
        "  for _, _, filenames in os.walk(f'{X_path}/{i}'):\n",
        "    for filename in filenames:\n",
        "      img_paths_X.append(os.path.join(filename))"
      ],
      "metadata": {
        "id": "kVMCEIEuyYjJ"
      },
      "execution_count": null,
      "outputs": []
    },
    {
      "cell_type": "code",
      "source": [
        "print(img_paths_X[:20])"
      ],
      "metadata": {
        "colab": {
          "base_uri": "https://localhost:8080/"
        },
        "id": "EZp486yty7kE",
        "outputId": "23a66043-23db-4b01-bd04-64089ee321cb"
      },
      "execution_count": null,
      "outputs": [
        {
          "output_type": "stream",
          "name": "stdout",
          "text": [
            "['patch_1_14_12.jpg', 'patch_1_15_14.jpg', 'patch_1_14_4.jpg', 'patch_1_17_24.jpg', 'patch_1_8_24.jpg', 'patch_1_18_26.jpg', 'patch_1_20_5.jpg', 'patch_2_3_11.jpg', 'patch_1_20_6.jpg', 'patch_1_8_1.jpg', 'patch_1_16_11.jpg', 'patch_1_14_23.jpg', 'patch_1_16_22.jpg', 'patch_2_1_4.jpg', 'patch_1_19_9.jpg', 'patch_1_20_29.jpg', 'patch_1_16_17.jpg', 'patch_1_8_10.jpg', 'patch_1_15_18.jpg', 'patch_1_17_18.jpg']\n"
          ]
        }
      ]
    },
    {
      "cell_type": "code",
      "source": [
        "for i in range(10,801,10):\n",
        "  for _, _, filenames in os.walk(f'{Y_path}/{i}'):\n",
        "    for filename in filenames:\n",
        "      img_paths_Y.append(os.path.join(filename))"
      ],
      "metadata": {
        "id": "xvMQCBBR1GiA"
      },
      "execution_count": null,
      "outputs": []
    },
    {
      "cell_type": "code",
      "source": [
        "print(len(img_paths_X), len(img_paths_Y))"
      ],
      "metadata": {
        "colab": {
          "base_uri": "https://localhost:8080/"
        },
        "id": "cdljPbE07IGo",
        "outputId": "25ae85c2-d836-454e-d76c-b0ebfdbfded9"
      },
      "execution_count": null,
      "outputs": [
        {
          "output_type": "stream",
          "name": "stdout",
          "text": [
            "522955 522939\n"
          ]
        }
      ]
    },
    {
      "cell_type": "code",
      "source": [
        "for i in range(10,801,10):\n",
        "  counter = 0\n",
        "  for _, _, filenames in os.walk(f'{X_path}/{i}'):\n",
        "    print(f'{X_path}/{i}')\n",
        "    for filename in filenames:\n",
        "      counter +=1\n",
        "    print(counter)"
      ],
      "metadata": {
        "colab": {
          "base_uri": "https://localhost:8080/"
        },
        "id": "LfXTHuGFAKoC",
        "outputId": "fcd10367-c709-4e79-f753-77c2b3ab2d59"
      },
      "execution_count": null,
      "outputs": [
        {
          "output_type": "stream",
          "name": "stdout",
          "text": [
            "./Train_X2/10\n",
            "6386\n",
            "./Train_X2/20\n",
            "6572\n",
            "./Train_X2/30\n",
            "6386\n",
            "./Train_X2/40\n",
            "6231\n",
            "./Train_X2/50\n",
            "6355\n",
            "./Train_X2/60\n",
            "6541\n",
            "./Train_X2/70\n",
            "6324\n",
            "./Train_X2/80\n",
            "6603\n",
            "./Train_X2/90\n",
            "6510\n",
            "./Train_X2/100\n",
            "6510\n",
            "./Train_X2/110\n",
            "6386\n",
            "./Train_X2/120\n",
            "6696\n",
            "./Train_X2/130\n",
            "6696\n",
            "./Train_X2/140\n",
            "6572\n",
            "./Train_X2/150\n",
            "6758\n",
            "./Train_X2/160\n",
            "6355\n",
            "./Train_X2/170\n",
            "7037\n",
            "./Train_X2/180\n",
            "6758\n",
            "./Train_X2/190\n",
            "6386\n",
            "./Train_X2/200\n",
            "6820\n",
            "./Train_X2/210\n",
            "6417\n",
            "./Train_X2/220\n",
            "6014\n",
            "./Train_X2/230\n",
            "6262\n",
            "./Train_X2/240\n",
            "6510\n",
            "./Train_X2/250\n",
            "5890\n",
            "./Train_X2/260\n",
            "6510\n",
            "./Train_X2/270\n",
            "6231\n",
            "./Train_X2/280\n",
            "6359\n",
            "./Train_X2/290\n",
            "6510\n",
            "./Train_X2/300\n",
            "6045\n",
            "./Train_X2/310\n",
            "6355\n",
            "./Train_X2/320\n",
            "7068\n",
            "./Train_X2/330\n",
            "6646\n",
            "./Train_X2/340\n",
            "6448\n",
            "./Train_X2/350\n",
            "6820\n",
            "./Train_X2/360\n",
            "6603\n",
            "./Train_X2/370\n",
            "6634\n",
            "./Train_X2/380\n",
            "6603\n",
            "./Train_X2/390\n",
            "6355\n",
            "./Train_X2/400\n",
            "0\n",
            "./Train_X2/410\n",
            "0\n",
            "./Train_X2/420\n",
            "0\n",
            "./Train_X2/430\n",
            "0\n",
            "./Train_X2/440\n",
            "0\n",
            "./Train_X2/500\n",
            "6541\n",
            "./Train_X2/510\n",
            "6200\n",
            "./Train_X2/520\n",
            "6789\n",
            "./Train_X2/530\n",
            "6603\n",
            "./Train_X2/540\n",
            "6789\n",
            "./Train_X2/550\n",
            "6386\n",
            "./Train_X2/560\n",
            "6665\n",
            "./Train_X2/570\n",
            "6758\n",
            "./Train_X2/580\n",
            "6820\n",
            "./Train_X2/590\n",
            "6572\n",
            "./Train_X2/600\n",
            "6355\n",
            "./Train_X2/610\n",
            "6789\n",
            "./Train_X2/620\n",
            "6665\n",
            "./Train_X2/630\n",
            "6572\n",
            "./Train_X2/640\n",
            "6975\n",
            "./Train_X2/650\n",
            "6696\n",
            "./Train_X2/660\n",
            "6417\n",
            "./Train_X2/670\n",
            "6820\n",
            "./Train_X2/680\n",
            "6014\n",
            "./Train_X2/690\n",
            "6355\n",
            "./Train_X2/700\n",
            "6696\n",
            "./Train_X2/710\n",
            "6541\n",
            "./Train_X2/720\n",
            "6727\n",
            "./Train_X2/730\n",
            "6541\n",
            "./Train_X2/740\n",
            "6541\n",
            "./Train_X2/750\n",
            "6913\n",
            "./Train_X2/760\n",
            "6417\n",
            "./Train_X2/770\n",
            "6789\n",
            "./Train_X2/780\n",
            "6138\n",
            "./Train_X2/790\n",
            "6479\n",
            "./Train_X2/800\n",
            "6231\n"
          ]
        }
      ]
    },
    {
      "cell_type": "code",
      "source": [
        "Total = 0\n",
        "for i in range(10,801,10):\n",
        "  counter = 0\n",
        "  for _, _, filenames in os.walk(f'{Y_path}/{i}'):\n",
        "    print(f'{Y_path}/{i}')\n",
        "    for filename in filenames:\n",
        "      counter +=1\n",
        "    print(counter)\n",
        "    Total += counter\n",
        "\n",
        "print(Total)"
      ],
      "metadata": {
        "colab": {
          "base_uri": "https://localhost:8080/"
        },
        "id": "MX-lhk-aAldv",
        "outputId": "0062c0cf-827a-42a4-df72-3b02262ebfc9"
      },
      "execution_count": null,
      "outputs": [
        {
          "output_type": "stream",
          "name": "stdout",
          "text": [
            "./Train_Y/10\n",
            "6386\n",
            "./Train_Y/20\n",
            "6572\n",
            "./Train_Y/30\n",
            "6386\n",
            "./Train_Y/40\n",
            "6231\n",
            "./Train_Y/50\n",
            "6355\n",
            "./Train_Y/60\n",
            "6541\n",
            "./Train_Y/70\n",
            "6324\n",
            "./Train_Y/80\n",
            "6603\n",
            "./Train_Y/90\n",
            "6510\n",
            "./Train_Y/100\n",
            "6510\n",
            "./Train_Y/110\n",
            "6386\n",
            "./Train_Y/120\n",
            "6696\n",
            "./Train_Y/130\n",
            "6696\n",
            "./Train_Y/140\n",
            "6572\n",
            "./Train_Y/150\n",
            "6758\n",
            "./Train_Y/160\n",
            "6355\n",
            "./Train_Y/170\n",
            "7037\n",
            "./Train_Y/180\n",
            "6758\n",
            "./Train_Y/190\n",
            "6386\n",
            "./Train_Y/200\n",
            "6820\n",
            "./Train_Y/210\n",
            "6417\n",
            "./Train_Y/220\n",
            "6014\n",
            "./Train_Y/230\n",
            "6262\n",
            "./Train_Y/240\n",
            "6510\n",
            "./Train_Y/250\n",
            "5890\n",
            "./Train_Y/260\n",
            "6510\n",
            "./Train_Y/270\n",
            "6231\n",
            "./Train_Y/280\n",
            "6355\n",
            "./Train_Y/290\n",
            "6510\n",
            "./Train_Y/300\n",
            "6045\n",
            "./Train_Y/310\n",
            "6355\n",
            "./Train_Y/320\n",
            "7068\n",
            "./Train_Y/330\n",
            "6634\n",
            "./Train_Y/340\n",
            "6448\n",
            "./Train_Y/350\n",
            "6820\n",
            "./Train_Y/360\n",
            "6603\n",
            "./Train_Y/370\n",
            "6634\n",
            "./Train_Y/380\n",
            "6603\n",
            "./Train_Y/390\n",
            "6355\n",
            "./Train_Y/400\n",
            "6417\n",
            "./Train_Y/410\n",
            "6634\n",
            "./Train_Y/420\n",
            "6634\n",
            "./Train_Y/430\n",
            "6727\n",
            "./Train_Y/440\n",
            "6200\n",
            "./Train_Y/450\n",
            "6665\n",
            "./Train_Y/460\n",
            "7223\n",
            "./Train_Y/470\n",
            "6448\n",
            "./Train_Y/480\n",
            "6727\n",
            "./Train_Y/490\n",
            "6324\n",
            "./Train_Y/500\n",
            "6541\n",
            "./Train_Y/510\n",
            "6200\n",
            "./Train_Y/520\n",
            "6789\n",
            "./Train_Y/530\n",
            "6603\n",
            "./Train_Y/540\n",
            "6789\n",
            "./Train_Y/550\n",
            "6386\n",
            "./Train_Y/560\n",
            "6665\n",
            "./Train_Y/570\n",
            "6758\n",
            "./Train_Y/580\n",
            "6820\n",
            "./Train_Y/590\n",
            "6572\n",
            "./Train_Y/600\n",
            "6355\n",
            "./Train_Y/610\n",
            "6789\n",
            "./Train_Y/620\n",
            "6665\n",
            "./Train_Y/630\n",
            "6572\n",
            "./Train_Y/640\n",
            "6975\n",
            "./Train_Y/650\n",
            "6696\n",
            "./Train_Y/660\n",
            "6417\n",
            "./Train_Y/670\n",
            "6820\n",
            "./Train_Y/680\n",
            "6014\n",
            "./Train_Y/690\n",
            "6355\n",
            "./Train_Y/700\n",
            "6696\n",
            "./Train_Y/710\n",
            "6541\n",
            "./Train_Y/720\n",
            "6727\n",
            "./Train_Y/730\n",
            "6541\n",
            "./Train_Y/740\n",
            "6541\n",
            "./Train_Y/750\n",
            "6913\n",
            "./Train_Y/760\n",
            "6417\n",
            "./Train_Y/770\n",
            "6789\n",
            "./Train_Y/780\n",
            "6138\n",
            "./Train_Y/790\n",
            "6479\n",
            "./Train_Y/800\n",
            "6231\n",
            "522939\n"
          ]
        }
      ]
    },
    {
      "cell_type": "code",
      "source": [],
      "metadata": {
        "id": "T9XdjuOQA6m1"
      },
      "execution_count": null,
      "outputs": []
    }
  ],
  "metadata": {
    "colab": {
      "collapsed_sections": [
        "F8V72hPN2p-i",
        "NgqI8GPv2WgP",
        "2LX1ly3m3Mgt",
        "hSWI2tVk33QK",
        "NuhuY4xo2hXx"
      ],
      "provenance": [],
      "mount_file_id": "10WUsdYWwAu-xK2pbpt2YGU7NeOEVInzS",
      "authorship_tag": "ABX9TyMOKmi6mFz4CP1zoxPVvrAl",
      "include_colab_link": true
    },
    "kernelspec": {
      "display_name": "Python 3",
      "name": "python3"
    },
    "language_info": {
      "name": "python"
    },
    "gpuClass": "standard"
  },
  "nbformat": 4,
  "nbformat_minor": 0
}